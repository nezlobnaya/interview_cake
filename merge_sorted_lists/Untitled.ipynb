{
 "cells": [
  {
   "cell_type": "code",
   "execution_count": 27,
   "metadata": {},
   "outputs": [
    {
     "ename": "SyntaxError",
     "evalue": "invalid syntax (<ipython-input-27-5e555a2c5c6c>, line 16)",
     "output_type": "error",
     "traceback": [
      "\u001b[0;36m  File \u001b[0;32m\"<ipython-input-27-5e555a2c5c6c>\"\u001b[0;36m, line \u001b[0;32m16\u001b[0m\n\u001b[0;31m    my_list[current_index_mine] < vlads_list[current_index_vlads])):\u001b[0m\n\u001b[0m                                                                   ^\u001b[0m\n\u001b[0;31mSyntaxError\u001b[0m\u001b[0;31m:\u001b[0m invalid syntax\n"
     ]
    }
   ],
   "source": [
    "def merge_lists(my_list, vlads_list):\n",
    "    merged_list_size = len(my_list) + len(vlads_list)\n",
    "    merged_list = [None]* merged_list_size\n",
    "    \n",
    "    current_index_mine = 0\n",
    "    current_index_vlads = 0\n",
    "    current_index_merged = 0\n",
    "    \n",
    "    while current_index_merged < merged_list_size:\n",
    "        \n",
    "        is_my_list_exhausted = current_index_mine >= len(my_list)\n",
    "        is_vlads_exhausted = current_index_vlads >= len(vlads_list\n",
    "        \n",
    "        if (not is_mine_exhausted and\n",
    "                (is_vlads_exhausted or\n",
    "                 my_list[current_index_mine] < vlads_list[current_index_vlads])):                                               \n",
    "#         if (not is_mine_exhausted and\n",
    "#                 (is_vlads_exhausted or \n",
    "#                  my_list[current_index_mine] < vlads_list[current_index_vlads])):\n",
    "                                                        \n",
    "            merged_list[current_index_merged] = my_list[current_index_mine]\n",
    "            current_index_mine +=1\n",
    "          \n",
    "        else:\n",
    "            merged_list[current_index_merged] = vlads_list[current_index_vlads]\n",
    "            current_index_vlads +=1\n",
    "            \n",
    "        currrent_index_merged +=1\n",
    "            \n",
    "                                      \n",
    "    return merged_list\n",
    "\n",
    "my_list     = [3, 4, 6, 10, 11, 15]\n",
    "vlads_list = [1, 5, 8, 12, 14, 19]\n",
    "print(merge_lists(my_list, vlads_list))\n",
    "\n",
    "\n"
   ]
  },
  {
   "cell_type": "code",
   "execution_count": null,
   "metadata": {},
   "outputs": [],
   "source": []
  },
  {
   "cell_type": "code",
   "execution_count": null,
   "metadata": {},
   "outputs": [],
   "source": []
  },
  {
   "cell_type": "code",
   "execution_count": null,
   "metadata": {},
   "outputs": [],
   "source": []
  },
  {
   "cell_type": "code",
   "execution_count": null,
   "metadata": {},
   "outputs": [],
   "source": []
  }
 ],
 "metadata": {
  "kernelspec": {
   "display_name": "Python 3",
   "language": "python",
   "name": "python3"
  },
  "language_info": {
   "codemirror_mode": {
    "name": "ipython",
    "version": 3
   },
   "file_extension": ".py",
   "mimetype": "text/x-python",
   "name": "python",
   "nbconvert_exporter": "python",
   "pygments_lexer": "ipython3",
   "version": "3.7.7"
  }
 },
 "nbformat": 4,
 "nbformat_minor": 4
}
